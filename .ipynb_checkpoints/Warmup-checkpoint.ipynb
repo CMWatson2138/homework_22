{
 "cells": [
  {
   "cell_type": "code",
   "execution_count": 5,
   "metadata": {},
   "outputs": [],
   "source": [
    "import numpy as np\n",
    "import pandas as pd\n",
    "\n",
    "def func (list1):\n",
    "    temp = ''\n",
    "    for i in str(list1):\n",
    "            print(i)\n",
    "            if i not in temp:\n",
    "                temp= temp+ ''.join(str(i))\n",
    "                print (temp)"
   ]
  },
  {
   "cell_type": "code",
   "execution_count": 6,
   "metadata": {},
   "outputs": [
    {
     "name": "stdout",
     "output_type": "stream",
     "text": [
      "[\n",
      "[\n",
      "1\n",
      "[1\n",
      "3\n",
      "[13\n",
      "1\n",
      "2\n",
      "[132\n",
      "5\n",
      "[1325\n",
      "4\n",
      "[13254\n",
      "3\n",
      "2\n",
      "]\n",
      "[13254]\n"
     ]
    }
   ],
   "source": [
    "list1=[13125432]\n",
    "func(list1)"
   ]
  }
 ],
 "metadata": {
  "kernelspec": {
   "display_name": "Python 3",
   "language": "python",
   "name": "python3"
  },
  "language_info": {
   "codemirror_mode": {
    "name": "ipython",
    "version": 3
   },
   "file_extension": ".py",
   "mimetype": "text/x-python",
   "name": "python",
   "nbconvert_exporter": "python",
   "pygments_lexer": "ipython3",
   "version": "3.8.5"
  }
 },
 "nbformat": 4,
 "nbformat_minor": 4
}
